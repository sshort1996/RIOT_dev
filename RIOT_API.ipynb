{
 "cells": [
  {
   "cell_type": "markdown",
   "metadata": {},
   "source": [
    "# Using the RIOT games API"
   ]
  },
  {
   "cell_type": "markdown",
   "metadata": {},
   "source": [
    "Many APIs available at https://developer.riotgames.com/apis. Most basic is `SUMMONER-V4`"
   ]
  },
  {
   "cell_type": "markdown",
   "metadata": {},
   "source": [
    "## Types of APIs"
   ]
  },
  {
   "cell_type": "markdown",
   "metadata": {},
   "source": [
    "### `SUMMONER-V4`"
   ]
  },
  {
   "cell_type": "code",
   "execution_count": 55,
   "metadata": {
    "ExecuteTime": {
     "end_time": "2021-06-28T15:39:01.854057Z",
     "start_time": "2021-06-28T15:39:01.845423Z"
    }
   },
   "outputs": [],
   "source": [
    "\"\"\"\n",
    "Generate API keys using login details in slack\n",
    "\"\"\"\n",
    "API_key = \"RGAPI-20fd6f2f-f1b5-4049-9178-9291f7f9d239\" # paste key here "
   ]
  },
  {
   "cell_type": "markdown",
   "metadata": {},
   "source": [
    "Appending this key to the URL \n",
    "\n",
    "\"https://na1.api.riotgames.com/lol/summoner/v4/summoners/by-name/Doublelift?api_key=\"\n",
    "\n",
    "gives the following data"
   ]
  },
  {
   "cell_type": "markdown",
   "metadata": {},
   "source": [
    "`{\"id\":\"McE7ghJoqLBKaRWqDGjWm9niZf-tiJqo1DoNZuFtD1-uV3s\",\n",
    " \"accountId\":\"9_BG7jTCi0ZGfrz0bbJuQf4qcdQD_qO9Etwrh_8wm8_WOw\",\n",
    " \"puuid\":\"uE_qjrHfzSicPneHSjhpV3n8H74hBLK_OJIIBnduoFCocTQf45kAsZtODNtwXtEYkCNSznea2DOLeA\",\n",
    " \"name\":\"Doublelift\",\n",
    " \"profileIconId\":4568,\n",
    " \"revisionDate\":1623977717000,\n",
    " \"summonerLevel\":255}`"
   ]
  },
  {
   "cell_type": "markdown",
   "metadata": {},
   "source": [
    "Can parse this as a python dictionary if we wanted"
   ]
  },
  {
   "cell_type": "code",
   "execution_count": 2,
   "metadata": {
    "ExecuteTime": {
     "end_time": "2021-06-28T13:07:35.103157Z",
     "start_time": "2021-06-28T13:07:35.083540Z"
    }
   },
   "outputs": [
    {
     "name": "stdout",
     "output_type": "stream",
     "text": [
      "profileIconId : 4568\n",
      "name : Doublelift\n",
      "puuid : uE_qjrHfzSicPneHSjhpV3n8H74hBLK_OJIIBnduoFCocTQf45kAsZtODNtwXtEYkCNSznea2DOLeA\n",
      "summonerLevel : 255\n",
      "accountId : 9_BG7jTCi0ZGfrz0bbJuQf4qcdQD_qO9Etwrh_8wm8_WOw\n",
      "id : McE7ghJoqLBKaRWqDGjWm9niZf-tiJqo1DoNZuFtD1-uV3s\n",
      "revisionDate : 1623977717000\n"
     ]
    }
   ],
   "source": [
    "import json \n",
    "static_data =  '{\"id\":\"McE7ghJoqLBKaRWqDGjWm9niZf-tiJqo1DoNZuFtD1-uV3s\",\\\n",
    " \"accountId\":\"9_BG7jTCi0ZGfrz0bbJuQf4qcdQD_qO9Etwrh_8wm8_WOw\",\\\n",
    " \"puuid\":\"uE_qjrHfzSicPneHSjhpV3n8H74hBLK_OJIIBnduoFCocTQf45kAsZtODNtwXtEYkCNSznea2DOLeA\",\\\n",
    " \"name\":\"Doublelift\",\\\n",
    " \"profileIconId\":4568,\\\n",
    " \"revisionDate\":1623977717000,\\\n",
    " \"summonerLevel\":255}'\n",
    "\n",
    "# parse as dictionary\n",
    "static_data = json.loads(static_data)\n",
    "for i, j in static_data.items():\n",
    "    print(str(i)+\" : \"+str(j))"
   ]
  },
  {
   "cell_type": "markdown",
   "metadata": {},
   "source": [
    "Or we could begrudgingly use pandas to pull straight from the url"
   ]
  },
  {
   "cell_type": "code",
   "execution_count": 8,
   "metadata": {
    "ExecuteTime": {
     "end_time": "2021-06-28T13:19:39.237719Z",
     "start_time": "2021-06-28T13:19:38.554669Z"
    }
   },
   "outputs": [
    {
     "name": "stdout",
     "output_type": "stream",
     "text": [
      "accountId           9_BG7jTCi0ZGfrz0bbJuQf4qcdQD_qO9Etwrh_8wm8_WOw\n",
      "id                 McE7ghJoqLBKaRWqDGjWm9niZf-tiJqo1DoNZuFtD1-uV3s\n",
      "name                                                    Doublelift\n",
      "profileIconId                                                 4568\n",
      "puuid            uE_qjrHfzSicPneHSjhpV3n8H74hBLK_OJIIBnduoFCocT...\n",
      "revisionDate                                         1624657074000\n",
      "summonerLevel                                                  255\n",
      "dtype: object\n"
     ]
    }
   ],
   "source": [
    "import pandas as pd\n",
    "url = \"https://na1.api.riotgames.com/lol/summoner/v4/summoners/by-name/Doublelift?api_key=\"+str(API_key)\n",
    "df = pd.read_json(url, typ='series')\n",
    "print(df)"
   ]
  },
  {
   "cell_type": "markdown",
   "metadata": {},
   "source": [
    "This url is the root of all API requests from riot games. "
   ]
  },
  {
   "cell_type": "code",
   "execution_count": 78,
   "metadata": {
    "ExecuteTime": {
     "end_time": "2021-06-28T15:49:03.424252Z",
     "start_time": "2021-06-28T15:49:02.680726Z"
    }
   },
   "outputs": [
    {
     "name": "stdout",
     "output_type": "stream",
     "text": [
      "accountId           9_BG7jTCi0ZGfrz0bbJuQf4qcdQD_qO9Etwrh_8wm8_WOw\n",
      "id                 McE7ghJoqLBKaRWqDGjWm9niZf-tiJqo1DoNZuFtD1-uV3s\n",
      "name                                                    Doublelift\n",
      "profileIconId                                                 4568\n",
      "puuid            uE_qjrHfzSicPneHSjhpV3n8H74hBLK_OJIIBnduoFCocT...\n",
      "revisionDate                                         1624657074000\n",
      "summonerLevel                                                  255\n",
      "dtype: object\n"
     ]
    }
   ],
   "source": [
    "root = \"https://na1.api.riotgames.com/lol\" # note the region prefix can vary from the example \"na1.api\" used here\n",
    "url = root+\"/summoner/v4/summoners/by-name/Doublelift?api_key=\"+str(API_key)\n",
    "df = pd.read_json(url, typ='series')\n",
    "print(df)"
   ]
  },
  {
   "cell_type": "markdown",
   "metadata": {},
   "source": [
    "### collecting match data"
   ]
  },
  {
   "cell_type": "markdown",
   "metadata": {},
   "source": [
    "Can get large lists of match and player (Summoner) data by requesting from ranked leaderboards"
   ]
  },
  {
   "cell_type": "code",
   "execution_count": 76,
   "metadata": {
    "ExecuteTime": {
     "end_time": "2021-06-28T15:46:35.274651Z",
     "start_time": "2021-06-28T15:46:35.151356Z"
    },
    "scrolled": false
   },
   "outputs": [
    {
     "name": "stdout",
     "output_type": "stream",
     "text": [
      "   freshBlood  hotStreak  inactive                              leagueId  \\\n",
      "0       False      False     False  8cb3ecdd-f866-4372-b20f-ad48f737c60b   \n",
      "1       False      False     False  b2a1013f-d3f6-472a-893a-b0af8bc00823   \n",
      "2       False       True     False  36af9f47-0c1c-432a-8a76-4ea50136213b   \n",
      "3       False       True     False  5a3cec92-cdee-4693-afbc-a381f40242ee   \n",
      "4       False      False     False  e3f543a7-a957-40a4-8f9c-c93bee137914   \n",
      "\n",
      "   leaguePoints  losses miniSeries        queueType rank  \\\n",
      "0            30     280        NaN  RANKED_SOLO_5x5    I   \n",
      "1            43     194        NaN  RANKED_SOLO_5x5    I   \n",
      "2            67     102        NaN  RANKED_SOLO_5x5    I   \n",
      "3            27      42        NaN  RANKED_SOLO_5x5    I   \n",
      "4            75      64        NaN  RANKED_SOLO_5x5    I   \n",
      "\n",
      "                                         summonerId      summonerName  \\\n",
      "0  LlBWh6eU352yPodpM3lBdhlyMYBcpf-A5LLJ1Zg2qC0Z-7as   ya ne ispravlus   \n",
      "1  Ou7L3HEAyawldXah_rKqsLbmG2FM6TbyF5zZFt5rg65Fy-0a        EC4 Murkel   \n",
      "2  xXAIoJV1A7aG1psY1edidTYofou0R5FMiaajudPSZG-aThXc  MiriaelSabathiel   \n",
      "3  zxr5pUseW-04CWm1lXRUhLmviDJyCflaKRiUqmwM5oHG9f3D    xXxavierlebgXx   \n",
      "4  Ay8qHHXxAzVYW1Ds5rZ0lLJNWd_VG6BAM4OAc7PvXBgCjDcj     Kakashi Kamui   \n",
      "\n",
      "      tier  veteran  wins  \n",
      "0  DIAMOND    False   318  \n",
      "1  DIAMOND    False   216  \n",
      "2  DIAMOND    False   110  \n",
      "3  DIAMOND    False    48  \n",
      "4  DIAMOND    False    86  \n"
     ]
    }
   ],
   "source": [
    "# table of ranked player data\n",
    "url = \"https://euw1.api.riotgames.com/lol/league/v4/entries/RANKED_SOLO_5x5/DIAMOND/I?api_key=\"+str(API_key)\n",
    "ranked_players = pd.read_json(url)\n",
    "print(ranked_players.head()) # summoner IDs of the top 205 ranked players"
   ]
  },
  {
   "cell_type": "markdown",
   "metadata": {},
   "source": [
    "Can then use the `summonerName` field to grab `accountId` using the `by-name` endpoint"
   ]
  },
  {
   "cell_type": "code",
   "execution_count": 82,
   "metadata": {
    "ExecuteTime": {
     "end_time": "2021-06-28T15:50:50.075189Z",
     "start_time": "2021-06-28T15:50:49.910674Z"
    }
   },
   "outputs": [
    {
     "name": "stdout",
     "output_type": "stream",
     "text": [
      "MiriaelSabathiel\n",
      "accountId          l3-pQLjHuqYRMuthjRG_6KFVPF-nZZ9bi-KGs8yK4sALQBk\n",
      "id                xXAIoJV1A7aG1psY1edidTYofou0R5FMiaajudPSZG-aThXc\n",
      "name                                              MiriaelSabathiel\n",
      "profileIconId                                                 3790\n",
      "puuid            WUcUQ4kmbcRU31RnsjTwB6JYDBIIWa_L7RpXKjfyQnpVzo...\n",
      "revisionDate                                         1624565753000\n",
      "summonerLevel                                                  172\n",
      "dtype: object\n"
     ]
    }
   ],
   "source": [
    "summoner = ranked_players.summonerName[2] # chose 2 at random\n",
    "print(summoner)\n",
    "\n",
    "# pull this summoners player data\n",
    "url = \"https://euw1.api.riotgames.com/lol/summoner/v4/summoners/by-name/\"\\\n",
    "        +str(summoner)+\"?api_key=\"+str(API_key)\n",
    "summoner_params = pd.read_json(url, typ='series')\n",
    "print(summoner_params)"
   ]
  },
  {
   "cell_type": "markdown",
   "metadata": {
    "ExecuteTime": {
     "end_time": "2021-06-28T14:46:47.586646Z",
     "start_time": "2021-06-28T14:46:47.514219Z"
    }
   },
   "source": [
    "We can then pull the match history of this player using the `MATCH-V4` API"
   ]
  },
  {
   "cell_type": "code",
   "execution_count": 86,
   "metadata": {
    "ExecuteTime": {
     "end_time": "2021-06-28T15:52:15.569244Z",
     "start_time": "2021-06-28T15:52:15.238802Z"
    }
   },
   "outputs": [],
   "source": [
    "# pull this summoners match history data\n",
    "url = \"https://euw1.api.riotgames.com/lol/match/v4/matchlists/by-account/\"\\\n",
    "        +str(summoner_params.accountId)+\"?api_key=\"+str(API_key)\n",
    "match_hist = pd.read_json(url, typ='series')"
   ]
  },
  {
   "cell_type": "code",
   "execution_count": 96,
   "metadata": {
    "ExecuteTime": {
     "end_time": "2021-06-28T15:54:50.339543Z",
     "start_time": "2021-06-28T15:54:50.324929Z"
    }
   },
   "outputs": [
    {
     "name": "stdout",
     "output_type": "stream",
     "text": [
      "100\n",
      "{u'lane': u'NONE', u'gameId': 5337624784L, u'champion': 10, u'platformId': u'EUW1', u'timestamp': 1624564590676L, u'queue': 420, u'role': u'DUO_SUPPORT', u'season': 13}\n"
     ]
    }
   ],
   "source": [
    "print(len(match_hist.matches)) # total matches available\n",
    "print(match_hist.matches[1])"
   ]
  },
  {
   "cell_type": "code",
   "execution_count": 105,
   "metadata": {
    "ExecuteTime": {
     "end_time": "2021-06-28T16:08:10.456824Z",
     "start_time": "2021-06-28T16:08:10.323155Z"
    }
   },
   "outputs": [
    {
     "name": "stdout",
     "output_type": "stream",
     "text": [
      "5337624784\n"
     ]
    },
    {
     "ename": "HTTPError",
     "evalue": "HTTP Error 400: Bad Request",
     "output_type": "error",
     "traceback": [
      "\u001b[0;31m---------------------------------------------------------------------------\u001b[0m",
      "\u001b[0;31mHTTPError\u001b[0m                                 Traceback (most recent call last)",
      "\u001b[0;32m<ipython-input-105-a4de7d3158d7>\u001b[0m in \u001b[0;36m<module>\u001b[0;34m()\u001b[0m\n\u001b[1;32m      2\u001b[0m \u001b[0;32mprint\u001b[0m\u001b[0;34m(\u001b[0m\u001b[0mstr\u001b[0m\u001b[0;34m(\u001b[0m\u001b[0;34m(\u001b[0m\u001b[0mmatch_hist\u001b[0m\u001b[0;34m.\u001b[0m\u001b[0mmatches\u001b[0m\u001b[0;34m[\u001b[0m\u001b[0;36m1\u001b[0m\u001b[0;34m]\u001b[0m\u001b[0;34m)\u001b[0m\u001b[0;34m[\u001b[0m\u001b[0;34m\"gameId\"\u001b[0m\u001b[0;34m]\u001b[0m\u001b[0;34m)\u001b[0m\u001b[0;34m)\u001b[0m\u001b[0;34m\u001b[0m\u001b[0m\n\u001b[1;32m      3\u001b[0m \u001b[0murl\u001b[0m \u001b[0;34m=\u001b[0m \u001b[0;34m\"https://euw1.api.riotgames.com/lol/match/v5/matches/\"\u001b[0m\u001b[0;34m+\u001b[0m\u001b[0mstr\u001b[0m\u001b[0;34m(\u001b[0m\u001b[0;34m(\u001b[0m\u001b[0mmatch_hist\u001b[0m\u001b[0;34m.\u001b[0m\u001b[0mmatches\u001b[0m\u001b[0;34m[\u001b[0m\u001b[0;36m1\u001b[0m\u001b[0;34m]\u001b[0m\u001b[0;34m)\u001b[0m\u001b[0;34m[\u001b[0m\u001b[0;34m\"gameId\"\u001b[0m\u001b[0;34m]\u001b[0m\u001b[0;34m)\u001b[0m        \u001b[0;34m+\u001b[0m\u001b[0;34m\"?api_key=\"\u001b[0m\u001b[0;34m+\u001b[0m\u001b[0mstr\u001b[0m\u001b[0;34m(\u001b[0m\u001b[0mAPI_key\u001b[0m\u001b[0;34m)\u001b[0m\u001b[0;34m\u001b[0m\u001b[0m\n\u001b[0;32m----> 4\u001b[0;31m \u001b[0mmatch_\u001b[0m \u001b[0;34m=\u001b[0m \u001b[0mpd\u001b[0m\u001b[0;34m.\u001b[0m\u001b[0mread_json\u001b[0m\u001b[0;34m(\u001b[0m\u001b[0murl\u001b[0m\u001b[0;34m,\u001b[0m \u001b[0mtyp\u001b[0m\u001b[0;34m=\u001b[0m\u001b[0;34m'series'\u001b[0m\u001b[0;34m)\u001b[0m\u001b[0;34m\u001b[0m\u001b[0m\n\u001b[0m",
      "\u001b[0;32m/home/postgrad1/anaconda2/lib/python2.7/site-packages/pandas/io/json/json.pyc\u001b[0m in \u001b[0;36mread_json\u001b[0;34m(path_or_buf, orient, typ, dtype, convert_axes, convert_dates, keep_default_dates, numpy, precise_float, date_unit, encoding, lines, chunksize, compression)\u001b[0m\n\u001b[1;32m    411\u001b[0m     \u001b[0mcompression\u001b[0m \u001b[0;34m=\u001b[0m \u001b[0m_infer_compression\u001b[0m\u001b[0;34m(\u001b[0m\u001b[0mpath_or_buf\u001b[0m\u001b[0;34m,\u001b[0m \u001b[0mcompression\u001b[0m\u001b[0;34m)\u001b[0m\u001b[0;34m\u001b[0m\u001b[0m\n\u001b[1;32m    412\u001b[0m     filepath_or_buffer, _, compression, should_close = get_filepath_or_buffer(\n\u001b[0;32m--> 413\u001b[0;31m         \u001b[0mpath_or_buf\u001b[0m\u001b[0;34m,\u001b[0m \u001b[0mencoding\u001b[0m\u001b[0;34m=\u001b[0m\u001b[0mencoding\u001b[0m\u001b[0;34m,\u001b[0m \u001b[0mcompression\u001b[0m\u001b[0;34m=\u001b[0m\u001b[0mcompression\u001b[0m\u001b[0;34m,\u001b[0m\u001b[0;34m\u001b[0m\u001b[0m\n\u001b[0m\u001b[1;32m    414\u001b[0m     )\n\u001b[1;32m    415\u001b[0m \u001b[0;34m\u001b[0m\u001b[0m\n",
      "\u001b[0;32m/home/postgrad1/anaconda2/lib/python2.7/site-packages/pandas/io/common.pyc\u001b[0m in \u001b[0;36mget_filepath_or_buffer\u001b[0;34m(filepath_or_buffer, encoding, compression, mode)\u001b[0m\n\u001b[1;32m    200\u001b[0m \u001b[0;34m\u001b[0m\u001b[0m\n\u001b[1;32m    201\u001b[0m     \u001b[0;32mif\u001b[0m \u001b[0m_is_url\u001b[0m\u001b[0;34m(\u001b[0m\u001b[0mfilepath_or_buffer\u001b[0m\u001b[0;34m)\u001b[0m\u001b[0;34m:\u001b[0m\u001b[0;34m\u001b[0m\u001b[0m\n\u001b[0;32m--> 202\u001b[0;31m         \u001b[0mreq\u001b[0m \u001b[0;34m=\u001b[0m \u001b[0m_urlopen\u001b[0m\u001b[0;34m(\u001b[0m\u001b[0mfilepath_or_buffer\u001b[0m\u001b[0;34m)\u001b[0m\u001b[0;34m\u001b[0m\u001b[0m\n\u001b[0m\u001b[1;32m    203\u001b[0m         \u001b[0mcontent_encoding\u001b[0m \u001b[0;34m=\u001b[0m \u001b[0mreq\u001b[0m\u001b[0;34m.\u001b[0m\u001b[0mheaders\u001b[0m\u001b[0;34m.\u001b[0m\u001b[0mget\u001b[0m\u001b[0;34m(\u001b[0m\u001b[0;34m'Content-Encoding'\u001b[0m\u001b[0;34m,\u001b[0m \u001b[0mNone\u001b[0m\u001b[0;34m)\u001b[0m\u001b[0;34m\u001b[0m\u001b[0m\n\u001b[1;32m    204\u001b[0m         \u001b[0;32mif\u001b[0m \u001b[0mcontent_encoding\u001b[0m \u001b[0;34m==\u001b[0m \u001b[0;34m'gzip'\u001b[0m\u001b[0;34m:\u001b[0m\u001b[0;34m\u001b[0m\u001b[0m\n",
      "\u001b[0;32m/home/postgrad1/anaconda2/lib/python2.7/urllib2.pyc\u001b[0m in \u001b[0;36murlopen\u001b[0;34m(url, data, timeout, cafile, capath, cadefault, context)\u001b[0m\n\u001b[1;32m    152\u001b[0m     \u001b[0;32melse\u001b[0m\u001b[0;34m:\u001b[0m\u001b[0;34m\u001b[0m\u001b[0m\n\u001b[1;32m    153\u001b[0m         \u001b[0mopener\u001b[0m \u001b[0;34m=\u001b[0m \u001b[0m_opener\u001b[0m\u001b[0;34m\u001b[0m\u001b[0m\n\u001b[0;32m--> 154\u001b[0;31m     \u001b[0;32mreturn\u001b[0m \u001b[0mopener\u001b[0m\u001b[0;34m.\u001b[0m\u001b[0mopen\u001b[0m\u001b[0;34m(\u001b[0m\u001b[0murl\u001b[0m\u001b[0;34m,\u001b[0m \u001b[0mdata\u001b[0m\u001b[0;34m,\u001b[0m \u001b[0mtimeout\u001b[0m\u001b[0;34m)\u001b[0m\u001b[0;34m\u001b[0m\u001b[0m\n\u001b[0m\u001b[1;32m    155\u001b[0m \u001b[0;34m\u001b[0m\u001b[0m\n\u001b[1;32m    156\u001b[0m \u001b[0;32mdef\u001b[0m \u001b[0minstall_opener\u001b[0m\u001b[0;34m(\u001b[0m\u001b[0mopener\u001b[0m\u001b[0;34m)\u001b[0m\u001b[0;34m:\u001b[0m\u001b[0;34m\u001b[0m\u001b[0m\n",
      "\u001b[0;32m/home/postgrad1/anaconda2/lib/python2.7/urllib2.pyc\u001b[0m in \u001b[0;36mopen\u001b[0;34m(self, fullurl, data, timeout)\u001b[0m\n\u001b[1;32m    433\u001b[0m         \u001b[0;32mfor\u001b[0m \u001b[0mprocessor\u001b[0m \u001b[0;32min\u001b[0m \u001b[0mself\u001b[0m\u001b[0;34m.\u001b[0m\u001b[0mprocess_response\u001b[0m\u001b[0;34m.\u001b[0m\u001b[0mget\u001b[0m\u001b[0;34m(\u001b[0m\u001b[0mprotocol\u001b[0m\u001b[0;34m,\u001b[0m \u001b[0;34m[\u001b[0m\u001b[0;34m]\u001b[0m\u001b[0;34m)\u001b[0m\u001b[0;34m:\u001b[0m\u001b[0;34m\u001b[0m\u001b[0m\n\u001b[1;32m    434\u001b[0m             \u001b[0mmeth\u001b[0m \u001b[0;34m=\u001b[0m \u001b[0mgetattr\u001b[0m\u001b[0;34m(\u001b[0m\u001b[0mprocessor\u001b[0m\u001b[0;34m,\u001b[0m \u001b[0mmeth_name\u001b[0m\u001b[0;34m)\u001b[0m\u001b[0;34m\u001b[0m\u001b[0m\n\u001b[0;32m--> 435\u001b[0;31m             \u001b[0mresponse\u001b[0m \u001b[0;34m=\u001b[0m \u001b[0mmeth\u001b[0m\u001b[0;34m(\u001b[0m\u001b[0mreq\u001b[0m\u001b[0;34m,\u001b[0m \u001b[0mresponse\u001b[0m\u001b[0;34m)\u001b[0m\u001b[0;34m\u001b[0m\u001b[0m\n\u001b[0m\u001b[1;32m    436\u001b[0m \u001b[0;34m\u001b[0m\u001b[0m\n\u001b[1;32m    437\u001b[0m         \u001b[0;32mreturn\u001b[0m \u001b[0mresponse\u001b[0m\u001b[0;34m\u001b[0m\u001b[0m\n",
      "\u001b[0;32m/home/postgrad1/anaconda2/lib/python2.7/urllib2.pyc\u001b[0m in \u001b[0;36mhttp_response\u001b[0;34m(self, request, response)\u001b[0m\n\u001b[1;32m    546\u001b[0m         \u001b[0;32mif\u001b[0m \u001b[0;32mnot\u001b[0m \u001b[0;34m(\u001b[0m\u001b[0;36m200\u001b[0m \u001b[0;34m<=\u001b[0m \u001b[0mcode\u001b[0m \u001b[0;34m<\u001b[0m \u001b[0;36m300\u001b[0m\u001b[0;34m)\u001b[0m\u001b[0;34m:\u001b[0m\u001b[0;34m\u001b[0m\u001b[0m\n\u001b[1;32m    547\u001b[0m             response = self.parent.error(\n\u001b[0;32m--> 548\u001b[0;31m                 'http', request, response, code, msg, hdrs)\n\u001b[0m\u001b[1;32m    549\u001b[0m \u001b[0;34m\u001b[0m\u001b[0m\n\u001b[1;32m    550\u001b[0m         \u001b[0;32mreturn\u001b[0m \u001b[0mresponse\u001b[0m\u001b[0;34m\u001b[0m\u001b[0m\n",
      "\u001b[0;32m/home/postgrad1/anaconda2/lib/python2.7/urllib2.pyc\u001b[0m in \u001b[0;36merror\u001b[0;34m(self, proto, *args)\u001b[0m\n\u001b[1;32m    471\u001b[0m         \u001b[0;32mif\u001b[0m \u001b[0mhttp_err\u001b[0m\u001b[0;34m:\u001b[0m\u001b[0;34m\u001b[0m\u001b[0m\n\u001b[1;32m    472\u001b[0m             \u001b[0margs\u001b[0m \u001b[0;34m=\u001b[0m \u001b[0;34m(\u001b[0m\u001b[0mdict\u001b[0m\u001b[0;34m,\u001b[0m \u001b[0;34m'default'\u001b[0m\u001b[0;34m,\u001b[0m \u001b[0;34m'http_error_default'\u001b[0m\u001b[0;34m)\u001b[0m \u001b[0;34m+\u001b[0m \u001b[0morig_args\u001b[0m\u001b[0;34m\u001b[0m\u001b[0m\n\u001b[0;32m--> 473\u001b[0;31m             \u001b[0;32mreturn\u001b[0m \u001b[0mself\u001b[0m\u001b[0;34m.\u001b[0m\u001b[0m_call_chain\u001b[0m\u001b[0;34m(\u001b[0m\u001b[0;34m*\u001b[0m\u001b[0margs\u001b[0m\u001b[0;34m)\u001b[0m\u001b[0;34m\u001b[0m\u001b[0m\n\u001b[0m\u001b[1;32m    474\u001b[0m \u001b[0;34m\u001b[0m\u001b[0m\n\u001b[1;32m    475\u001b[0m \u001b[0;31m# XXX probably also want an abstract factory that knows when it makes\u001b[0m\u001b[0;34m\u001b[0m\u001b[0;34m\u001b[0m\u001b[0m\n",
      "\u001b[0;32m/home/postgrad1/anaconda2/lib/python2.7/urllib2.pyc\u001b[0m in \u001b[0;36m_call_chain\u001b[0;34m(self, chain, kind, meth_name, *args)\u001b[0m\n\u001b[1;32m    405\u001b[0m             \u001b[0mfunc\u001b[0m \u001b[0;34m=\u001b[0m \u001b[0mgetattr\u001b[0m\u001b[0;34m(\u001b[0m\u001b[0mhandler\u001b[0m\u001b[0;34m,\u001b[0m \u001b[0mmeth_name\u001b[0m\u001b[0;34m)\u001b[0m\u001b[0;34m\u001b[0m\u001b[0m\n\u001b[1;32m    406\u001b[0m \u001b[0;34m\u001b[0m\u001b[0m\n\u001b[0;32m--> 407\u001b[0;31m             \u001b[0mresult\u001b[0m \u001b[0;34m=\u001b[0m \u001b[0mfunc\u001b[0m\u001b[0;34m(\u001b[0m\u001b[0;34m*\u001b[0m\u001b[0margs\u001b[0m\u001b[0;34m)\u001b[0m\u001b[0;34m\u001b[0m\u001b[0m\n\u001b[0m\u001b[1;32m    408\u001b[0m             \u001b[0;32mif\u001b[0m \u001b[0mresult\u001b[0m \u001b[0;32mis\u001b[0m \u001b[0;32mnot\u001b[0m \u001b[0mNone\u001b[0m\u001b[0;34m:\u001b[0m\u001b[0;34m\u001b[0m\u001b[0m\n\u001b[1;32m    409\u001b[0m                 \u001b[0;32mreturn\u001b[0m \u001b[0mresult\u001b[0m\u001b[0;34m\u001b[0m\u001b[0m\n",
      "\u001b[0;32m/home/postgrad1/anaconda2/lib/python2.7/urllib2.pyc\u001b[0m in \u001b[0;36mhttp_error_default\u001b[0;34m(self, req, fp, code, msg, hdrs)\u001b[0m\n\u001b[1;32m    554\u001b[0m \u001b[0;32mclass\u001b[0m \u001b[0mHTTPDefaultErrorHandler\u001b[0m\u001b[0;34m(\u001b[0m\u001b[0mBaseHandler\u001b[0m\u001b[0;34m)\u001b[0m\u001b[0;34m:\u001b[0m\u001b[0;34m\u001b[0m\u001b[0m\n\u001b[1;32m    555\u001b[0m     \u001b[0;32mdef\u001b[0m \u001b[0mhttp_error_default\u001b[0m\u001b[0;34m(\u001b[0m\u001b[0mself\u001b[0m\u001b[0;34m,\u001b[0m \u001b[0mreq\u001b[0m\u001b[0;34m,\u001b[0m \u001b[0mfp\u001b[0m\u001b[0;34m,\u001b[0m \u001b[0mcode\u001b[0m\u001b[0;34m,\u001b[0m \u001b[0mmsg\u001b[0m\u001b[0;34m,\u001b[0m \u001b[0mhdrs\u001b[0m\u001b[0;34m)\u001b[0m\u001b[0;34m:\u001b[0m\u001b[0;34m\u001b[0m\u001b[0m\n\u001b[0;32m--> 556\u001b[0;31m         \u001b[0;32mraise\u001b[0m \u001b[0mHTTPError\u001b[0m\u001b[0;34m(\u001b[0m\u001b[0mreq\u001b[0m\u001b[0;34m.\u001b[0m\u001b[0mget_full_url\u001b[0m\u001b[0;34m(\u001b[0m\u001b[0;34m)\u001b[0m\u001b[0;34m,\u001b[0m \u001b[0mcode\u001b[0m\u001b[0;34m,\u001b[0m \u001b[0mmsg\u001b[0m\u001b[0;34m,\u001b[0m \u001b[0mhdrs\u001b[0m\u001b[0;34m,\u001b[0m \u001b[0mfp\u001b[0m\u001b[0;34m)\u001b[0m\u001b[0;34m\u001b[0m\u001b[0m\n\u001b[0m\u001b[1;32m    557\u001b[0m \u001b[0;34m\u001b[0m\u001b[0m\n\u001b[1;32m    558\u001b[0m \u001b[0;32mclass\u001b[0m \u001b[0mHTTPRedirectHandler\u001b[0m\u001b[0;34m(\u001b[0m\u001b[0mBaseHandler\u001b[0m\u001b[0;34m)\u001b[0m\u001b[0;34m:\u001b[0m\u001b[0;34m\u001b[0m\u001b[0m\n",
      "\u001b[0;31mHTTPError\u001b[0m: HTTP Error 400: Bad Request"
     ]
    }
   ],
   "source": [
    "# pull this summoners match history data\n",
    "print(str((match_hist.matches[1])[\"gameId\"]))\n",
    "url = \"https://euw1.api.riotgames.com/lol/match/v5/matches/\"+str((match_hist.matches[1])[\"gameId\"])\\\n",
    "        +\"?api_key=\"+str(API_key)\n",
    "match_ = pd.read_json(url, typ='series')"
   ]
  }
 ],
 "metadata": {
  "@webio": {
   "lastCommId": null,
   "lastKernelId": null
  },
  "kernelspec": {
   "display_name": "Python 2",
   "language": "python",
   "name": "python2"
  },
  "language_info": {
   "codemirror_mode": {
    "name": "ipython",
    "version": 2
   },
   "file_extension": ".py",
   "mimetype": "text/x-python",
   "name": "python",
   "nbconvert_exporter": "python",
   "pygments_lexer": "ipython2",
   "version": "2.7.16"
  }
 },
 "nbformat": 4,
 "nbformat_minor": 2
}
